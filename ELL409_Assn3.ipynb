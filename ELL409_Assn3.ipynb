{
  "nbformat": 4,
  "nbformat_minor": 0,
  "metadata": {
    "colab": {
      "provenance": [],
      "include_colab_link": true
    },
    "kernelspec": {
      "name": "python3",
      "display_name": "Python 3"
    },
    "language_info": {
      "name": "python"
    }
  },
  "cells": [
    {
      "cell_type": "markdown",
      "metadata": {
        "id": "view-in-github",
        "colab_type": "text"
      },
      "source": [
        "<a href=\"https://colab.research.google.com/github/Arpit1371/HousePricePrediction_MachineLearning/blob/main/ELL409_Assn3.ipynb\" target=\"_parent\"><img src=\"https://colab.research.google.com/assets/colab-badge.svg\" alt=\"Open In Colab\"/></a>"
      ]
    },
    {
      "cell_type": "code",
      "source": [
        "import os\n",
        "import matplotlib.pyplot as plt\n",
        "import tensorflow as tf\n",
        "from sklearn.model_selection import KFold\n",
        "from sklearn.model_selection import cross_val_score\n",
        "from sklearn import preprocessing\n",
        "from sklearn.model_selection import train_test_split\n",
        "import pandas as pd\n",
        "import numpy as np\n"
      ],
      "metadata": {
        "id": "wN5N8SceW-BY"
      },
      "execution_count": null,
      "outputs": []
    },
    {
      "cell_type": "code",
      "source": [
        "def plot(category,train_results):\n",
        "    plt.plot(train_results.history[category])\n",
        "    plt.plot(train_results.history['val_'+category])\n",
        "    plt.ylabel('Loss')\n",
        "    plt.xlabel('Epoch')\n",
        "    plt.legend(['Train', 'Val'], loc='upper left')\n",
        "    plt.title(category)\n",
        "    plt.show()"
      ],
      "metadata": {
        "id": "Ly4K0dBvXUDh"
      },
      "execution_count": null,
      "outputs": []
    },
    {
      "cell_type": "code",
      "source": [
        "class network:\n",
        "    # A class to implement a generic neural network\n",
        "    # Layers list represents the layers of the model, including the input and the output layer\n",
        "    # Activations, initializers similarly represent the activation functions and the\n",
        "    # initializers for the layers. The activation by default is 'relu'\n",
        "    # Dropout is a list of lists such that each value represents the layers where dropout\n",
        "    # to be added and the dropout rate\n",
        "    # normalization represents the kind of normalization to be used\n",
        "    def __init__(self, layer = [], activations = [], initializers = []\\\n",
        "                 ,loss = 'binary_crossentropy', dropout = []\\\n",
        "                 ,normalization = 'minmax', imp_dim = 10, **kwargs):\n",
        "        self.layers = layer\n",
        "        self.activations = activations\n",
        "        self.initializers = initializers\n",
        "        self.loss = loss\n",
        "        self.normalization = normalization\n",
        "        self.model = tf.keras.Sequential()\n",
        "        c = 0\n",
        "        for i in range(0,len(layer)):\n",
        "            activ = activations[i] if i < len(activations) else 'relu'\n",
        "            index, rate = dropout[c] if c < len(dropout) else [0,1.0]\n",
        "            if i == 0:\n",
        "                self.model.add(tf.keras.layers.Dense(units=layer[i]\\\n",
        "                                                     ,activation=activ\\\n",
        "                                                     ,use_bias=True\\\n",
        "                                                     ,kernel_initializer=initializers[i]\\\n",
        "                                                     ,bias_initializer='zeros'\\\n",
        "                                                     ,kernel_regularizer=tf.keras.regularizers.L1(0.001)\\\n",
        "                                                     ,input_shape = (imp_dim,)))\n",
        "            elif i == len(layer)-1:\n",
        "                self.model.add(tf.keras.layers.Dense(units=layer[i]\\\n",
        "                                                     ,activation=activ,kernel_regularizer=tf.keras.regularizers.L1(0.001)))\n",
        "            else:\n",
        "                self.model.add(tf.keras.layers.Dense(units=layer[i]\\\n",
        "                                                     ,activation=activ\\\n",
        "                                                     ,use_bias=True\\\n",
        "                                                     ,kernel_initializer=initializers[i]\\\n",
        "                                                     ,bias_initializer='zeros'\\\n",
        "                                                     ,kernel_regularizer=tf.keras.regularizers.L1(0.001)))\n",
        "\n",
        "            if index == i+1:\n",
        "                self.model.add(tf.keras.layers.Dropout(rate))\n",
        "                c += 1\n",
        "\n",
        "    def normalize(self,data):\n",
        "        X = data[0]\n",
        "        Y = data[1]\n",
        "        norm_X = X\n",
        "        if self.normalization == 'minmax':\n",
        "            norm_X = preprocessing.MinMaxScaler().fit_transform(X)\n",
        "        elif self.normalization == 'standard':\n",
        "            norm_X = preprocessing.StandardScaler().fit_transform(X)\n",
        "        elif self.normalization == 'maxabs':\n",
        "            norm_X = preprocessing.MaxAbsScaler().fit_transform(X)\n",
        "        return [norm_X,Y]\n",
        "\n",
        "\n"
      ],
      "metadata": {
        "id": "jS6pAnlnXkcT"
      },
      "execution_count": null,
      "outputs": []
    },
    {
      "cell_type": "code",
      "source": [
        "def evaluate(data = [], val_split = 0, test_train_split = 0.6\\\n",
        "               ,lr = 0.1, momentum = 0.0, num_epochs = 20\\\n",
        "               ,batch_size = 16, optimizer = 'Adam', num_folds = 5, layer = []\\\n",
        "             ,activations = [], initializers = [],loss = 'binary_crossentropy', dropout = []\\\n",
        "                 ,normalization = 'minmax', imp_dim = 10, decay = 0.0, decay_type = 'exponential', **kwargs):\n",
        "      net = network(layers,activations,initializers, normalization=normalization,dropout=dropout)\n",
        "      if net.normalization != 'none':\n",
        "          data = net.normalize(data)\n",
        "      x_train,x_test,y_train,y_test = train_test_split(data[0],data[1],test_size=test_train_split,random_state=42)\n",
        "        #train = self.model.fit(x_train, y_train, batch_size=batch_size\\\n",
        "        #                       ,epochs=num_epochs, validation_split=val_split)\n",
        "      callback = tf.keras.callbacks.EarlyStopping(monitor='accuracy', patience=10)\n",
        "      kfolds = KFold(n_splits=num_folds, shuffle = True)\n",
        "      cross_val = 0\n",
        "      for trainset, valset in kfolds.split(x_train,y_train):\n",
        "          net = network(layers,activations,initializers, normalization = normalization)\n",
        "          if decay > 0.0 and decay_type == 'exponential':\n",
        "            lr1 = tf.keras.optimizers.schedules.ExponentialDecay(lr,decay_steps=1000,decay_rate=decay,staircase=True)\n",
        "          elif decay > 0.0 and decay_type == 'polynomial':\n",
        "            lr1 = tf.keras.optimizers.schedules.PolynomialDecay(lr,decay_steps=1000,power=decay,end_learning_rate=0.0001)\n",
        "          if optimizer == 'SGD':\n",
        "              net.model.compile(optimizer = tf.keras.optimizers.SGD(learning_rate=lr1, momentum=momentum)\\\n",
        "                           ,loss=loss, metrics=['accuracy'])\n",
        "          elif optimizer == 'Adam':\n",
        "              net.model.compile(optimizer = tf.keras.optimizers.Adam(learning_rate=lr1)\\\n",
        "                           ,loss=loss, metrics=['accuracy'])\n",
        "          train = net.model.fit(x_train[trainset], y_train[trainset]\\\n",
        "                               , batch_size=batch_size,epochs=num_epochs, callbacks = [callback], verbose= 0)\n",
        "          val = net.model.evaluate(x_train[valset], y_train[valset])\n",
        "            #print(val)\n",
        "          cross_val += val[1]\n",
        "      cross_val = cross_val/num_folds\n",
        "      net = network(layers,activations,initializers, normalization = normalization)\n",
        "      if decay > 0.0 and decay_type == 'exponential':\n",
        "        lr = tf.keras.optimizers.schedules.ExponentialDecay(lr,decay_steps=1000,decay_rate=decay,staircase=True)\n",
        "      elif decay > 0.0 and decay_type == 'polynomial':\n",
        "        lr = tf.keras.optimizers.schedules.PolynomialDecay(lr,decay_steps=1000,power=decay,end_learning_rate=0.0001)\n",
        "      if optimizer == 'SGD':\n",
        "          net.model.compile(optimizer = tf.keras.optimizers.SGD(learning_rate=lr,momentum=momentum)\\\n",
        "                         ,loss=loss, metrics=['accuracy'])\n",
        "      elif optimizer == 'Adam':\n",
        "          net.model.compile(optimizer = tf.keras.optimizers.Adam(learning_rate=lr)\\\n",
        "                           ,loss=loss, metrics=['accuracy'])\n",
        "      train = net.model.fit(x_train, y_train, batch_size=batch_size\\\n",
        "                           ,epochs=num_epochs, validation_split=val_split, callbacks = [callback], verbose=0)\n",
        "      plot('accuracy',train)\n",
        "      plot('loss',train)\n",
        "      print('Cross validation is - ',cross_val)\n",
        "      net.model.evaluate(x_test, y_test)\n",
        "      return net.model.predict(x_test), y_test"
      ],
      "metadata": {
        "id": "fWaZc9hSxrza"
      },
      "execution_count": null,
      "outputs": []
    },
    {
      "cell_type": "code",
      "source": [
        "layers = [32,32,1]\n",
        "activations = ['relu', 'relu', 'sigmoid']\n",
        "initializers = ['he_normal', 'he_normal']\n",
        "dropout = [[2,0.3]]\n",
        "#dropout = []\n",
        "df = pd.read_csv(\"housepricedata.csv\")\n",
        "dataset = df.values\n",
        "val_split = 0.20\n",
        "test_split = 0.20\n",
        "lr = 0.005\n",
        "epochs = 150\n",
        "batch_size = 32\n",
        "data1 = []\n",
        "data1.append(dataset[:,0:10])\n",
        "data1.append(dataset[:,10])\n",
        "y_res,y_inp = evaluate(data=data1,val_split=val_split,test_train_split=test_split,lr=lr\\\n",
        "         ,num_epochs=epochs,batch_size=batch_size,layer=layers,activations=activations\\\n",
        "         ,initializers=initializers, optimizer=\"SGD\", momentum=0.9, decay=0.2\\\n",
        "         , decay_type='exponential', dropout=dropout)\n"
      ],
      "metadata": {
        "colab": {
          "base_uri": "https://localhost:8080/",
          "height": 716
        },
        "id": "d-IYgC6mXkf6",
        "outputId": "077ca146-e629-4032-fa47-c9cd9e26861e"
      },
      "execution_count": null,
      "outputs": [
        {
          "output_type": "stream",
          "name": "stdout",
          "text": [
            "8/8 [==============================] - 0s 2ms/step - loss: 0.5930 - accuracy: 0.8718\n",
            "8/8 [==============================] - 0s 2ms/step - loss: 0.5931 - accuracy: 0.8803\n",
            "8/8 [==============================] - 0s 2ms/step - loss: 0.5652 - accuracy: 0.8632\n",
            "8/8 [==============================] - 0s 2ms/step - loss: 0.5435 - accuracy: 0.9099\n",
            "8/8 [==============================] - 0s 2ms/step - loss: 0.5370 - accuracy: 0.9013\n"
          ]
        },
        {
          "output_type": "display_data",
          "data": {
            "text/plain": [
              "<Figure size 432x288 with 1 Axes>"
            ],
            "image/png": "[encoded data removed]"
          },
          "metadata": {
            "needs_background": "light"
          }
        },
        {
          "output_type": "display_data",
          "data": {
            "text/plain": [
              "<Figure size 432x288 with 1 Axes>"
            ],
            "image/png": "[encoded data removed]"
          },
          "metadata": {
            "needs_background": "light"
          }
        },
        {
          "output_type": "stream",
          "name": "stdout",
          "text": [
            "Cross validation is -  0.8853086829185486\n",
            "10/10 [==============================] - 0s 2ms/step - loss: 0.5317 - accuracy: 0.9007\n",
            "10/10 [==============================] - 0s 2ms/step\n"
          ]
        }
      ]
    },
    {
      "cell_type": "code",
      "source": [
        "from sklearn.metrics import confusion_matrix"
      ],
      "metadata": {
        "id": "xne2BzpDMAUE"
      },
      "execution_count": null,
      "outputs": []
    },
    {
      "cell_type": "code",
      "source": [
        "y_res2 = y_res > 0.5"
      ],
      "metadata": {
        "id": "4CxrWr74Xkie"
      },
      "execution_count": null,
      "outputs": []
    },
    {
      "cell_type": "code",
      "source": [
        "y_res2"
      ],
      "metadata": {
        "id": "WppQ6ULzPMIp",
        "outputId": "26d9c7b1-0d1a-4ec5-f2bc-80b1fe5c2778",
        "colab": {
          "base_uri": "https://localhost:8080/"
        }
      },
      "execution_count": null,
      "outputs": [
        {
          "output_type": "execute_result",
          "data": {
            "text/plain": [
              "array([[False],\n",
              "       [ True],\n",
              "       [False],\n",
              "       [ True],\n",
              "       [ True],\n",
              "       [False],\n",
              "       [ True],\n",
              "       [ True],\n",
              "       [False],\n",
              "       [False],\n",
              "       [ True],\n",
              "       [False],\n",
              "       [False],\n",
              "       [ True],\n",
              "       [ True],\n",
              "       [False],\n",
              "       [ True],\n",
              "       [False],\n",
              "       [False],\n",
              "       [ True],\n",
              "       [ True],\n",
              "       [ True],\n",
              "       [ True],\n",
              "       [False],\n",
              "       [ True],\n",
              "       [ True],\n",
              "       [ True],\n",
              "       [False],\n",
              "       [ True],\n",
              "       [ True],\n",
              "       [False],\n",
              "       [ True],\n",
              "       [ True],\n",
              "       [False],\n",
              "       [ True],\n",
              "       [False],\n",
              "       [False],\n",
              "       [ True],\n",
              "       [ True],\n",
              "       [False],\n",
              "       [False],\n",
              "       [ True],\n",
              "       [False],\n",
              "       [ True],\n",
              "       [False],\n",
              "       [False],\n",
              "       [False],\n",
              "       [False],\n",
              "       [ True],\n",
              "       [False],\n",
              "       [False],\n",
              "       [ True],\n",
              "       [False],\n",
              "       [ True],\n",
              "       [False],\n",
              "       [ True],\n",
              "       [ True],\n",
              "       [False],\n",
              "       [False],\n",
              "       [False],\n",
              "       [False],\n",
              "       [False],\n",
              "       [ True],\n",
              "       [ True],\n",
              "       [ True],\n",
              "       [ True],\n",
              "       [False],\n",
              "       [ True],\n",
              "       [False],\n",
              "       [ True],\n",
              "       [False],\n",
              "       [False],\n",
              "       [False],\n",
              "       [False],\n",
              "       [ True],\n",
              "       [False],\n",
              "       [ True],\n",
              "       [ True],\n",
              "       [False],\n",
              "       [False],\n",
              "       [False],\n",
              "       [False],\n",
              "       [False],\n",
              "       [False],\n",
              "       [False],\n",
              "       [False],\n",
              "       [ True],\n",
              "       [ True],\n",
              "       [False],\n",
              "       [ True],\n",
              "       [False],\n",
              "       [False],\n",
              "       [False],\n",
              "       [ True],\n",
              "       [False],\n",
              "       [ True],\n",
              "       [ True],\n",
              "       [ True],\n",
              "       [ True],\n",
              "       [ True],\n",
              "       [ True],\n",
              "       [ True],\n",
              "       [ True],\n",
              "       [False],\n",
              "       [False],\n",
              "       [ True],\n",
              "       [False],\n",
              "       [ True],\n",
              "       [False],\n",
              "       [ True],\n",
              "       [False],\n",
              "       [False],\n",
              "       [False],\n",
              "       [False],\n",
              "       [ True],\n",
              "       [False],\n",
              "       [False],\n",
              "       [False],\n",
              "       [False],\n",
              "       [ True],\n",
              "       [False],\n",
              "       [False],\n",
              "       [ True],\n",
              "       [False],\n",
              "       [ True],\n",
              "       [False],\n",
              "       [ True],\n",
              "       [False],\n",
              "       [False],\n",
              "       [ True],\n",
              "       [ True],\n",
              "       [ True],\n",
              "       [ True],\n",
              "       [False],\n",
              "       [False],\n",
              "       [ True],\n",
              "       [ True],\n",
              "       [False],\n",
              "       [ True],\n",
              "       [ True],\n",
              "       [ True],\n",
              "       [False],\n",
              "       [ True],\n",
              "       [ True],\n",
              "       [False],\n",
              "       [False],\n",
              "       [False],\n",
              "       [ True],\n",
              "       [False],\n",
              "       [False],\n",
              "       [False],\n",
              "       [False],\n",
              "       [ True],\n",
              "       [False],\n",
              "       [False],\n",
              "       [False],\n",
              "       [False],\n",
              "       [False],\n",
              "       [False],\n",
              "       [False],\n",
              "       [ True],\n",
              "       [False],\n",
              "       [ True],\n",
              "       [False],\n",
              "       [False],\n",
              "       [False],\n",
              "       [ True],\n",
              "       [ True],\n",
              "       [ True],\n",
              "       [ True],\n",
              "       [ True],\n",
              "       [False],\n",
              "       [False],\n",
              "       [ True],\n",
              "       [ True],\n",
              "       [False],\n",
              "       [False],\n",
              "       [ True],\n",
              "       [False],\n",
              "       [ True],\n",
              "       [False],\n",
              "       [False],\n",
              "       [False],\n",
              "       [ True],\n",
              "       [ True],\n",
              "       [ True],\n",
              "       [ True],\n",
              "       [ True],\n",
              "       [ True],\n",
              "       [False],\n",
              "       [False],\n",
              "       [False],\n",
              "       [False],\n",
              "       [False],\n",
              "       [ True],\n",
              "       [False],\n",
              "       [ True],\n",
              "       [False],\n",
              "       [ True],\n",
              "       [False],\n",
              "       [ True],\n",
              "       [ True],\n",
              "       [False],\n",
              "       [ True],\n",
              "       [ True],\n",
              "       [False],\n",
              "       [ True],\n",
              "       [False],\n",
              "       [False],\n",
              "       [False],\n",
              "       [ True],\n",
              "       [ True],\n",
              "       [False],\n",
              "       [ True],\n",
              "       [ True],\n",
              "       [ True],\n",
              "       [ True],\n",
              "       [False],\n",
              "       [False],\n",
              "       [False],\n",
              "       [False],\n",
              "       [ True],\n",
              "       [ True],\n",
              "       [False],\n",
              "       [ True],\n",
              "       [False],\n",
              "       [False],\n",
              "       [False],\n",
              "       [False],\n",
              "       [False],\n",
              "       [False],\n",
              "       [ True],\n",
              "       [False],\n",
              "       [False],\n",
              "       [ True],\n",
              "       [False],\n",
              "       [ True],\n",
              "       [False],\n",
              "       [ True],\n",
              "       [ True],\n",
              "       [False],\n",
              "       [ True],\n",
              "       [ True],\n",
              "       [ True],\n",
              "       [ True],\n",
              "       [False],\n",
              "       [False],\n",
              "       [ True],\n",
              "       [False],\n",
              "       [False],\n",
              "       [ True],\n",
              "       [ True],\n",
              "       [False],\n",
              "       [False],\n",
              "       [False],\n",
              "       [ True],\n",
              "       [False],\n",
              "       [False],\n",
              "       [ True],\n",
              "       [ True],\n",
              "       [ True],\n",
              "       [ True],\n",
              "       [False],\n",
              "       [ True],\n",
              "       [ True],\n",
              "       [ True],\n",
              "       [ True],\n",
              "       [False],\n",
              "       [False],\n",
              "       [ True],\n",
              "       [ True],\n",
              "       [ True],\n",
              "       [ True],\n",
              "       [False],\n",
              "       [False],\n",
              "       [False],\n",
              "       [ True],\n",
              "       [ True],\n",
              "       [False],\n",
              "       [False],\n",
              "       [ True],\n",
              "       [False],\n",
              "       [ True],\n",
              "       [False],\n",
              "       [ True],\n",
              "       [ True],\n",
              "       [ True],\n",
              "       [False],\n",
              "       [ True],\n",
              "       [ True],\n",
              "       [False],\n",
              "       [False]])"
            ]
          },
          "metadata": {},
          "execution_count": 200
        }
      ]
    },
    {
      "cell_type": "code",
      "source": [
        "c_mat = confusion_matrix(y_inp, y_res2)"
      ],
      "metadata": {
        "id": "7Zzzzq6FXkpF"
      },
      "execution_count": null,
      "outputs": []
    },
    {
      "cell_type": "code",
      "source": [
        "import seaborn as sns\n",
        "sns.heatmap(c_mat, annot=True)"
      ],
      "metadata": {
        "id": "9YLv9cFhPsV2",
        "outputId": "c62b5c77-5845-43c3-94e4-88d2d444024e",
        "colab": {
          "base_uri": "https://localhost:8080/",
          "height": 284
        }
      },
      "execution_count": null,
      "outputs": [
        {
          "output_type": "execute_result",
          "data": {
            "text/plain": [
              "<matplotlib.axes._subplots.AxesSubplot at 0x7f5ce7883950>"
            ]
          },
          "metadata": {},
          "execution_count": 206
        },
        {
          "output_type": "display_data",
          "data": {
            "text/plain": [
              "<Figure size 432x288 with 2 Axes>"
            ],
            "image/png": "[encoded data removed]"
          },
          "metadata": {
            "needs_background": "light"
          }
        }
      ]
    }
  ]
}